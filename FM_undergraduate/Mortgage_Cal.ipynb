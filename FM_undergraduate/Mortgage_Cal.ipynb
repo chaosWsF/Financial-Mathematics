{
 "cells": [
  {
   "cell_type": "code",
   "execution_count": 1,
   "metadata": {
    "ExecuteTime": {
     "end_time": "2021-09-15T01:21:05.692554Z",
     "start_time": "2021-09-15T01:21:05.681558Z"
    }
   },
   "outputs": [],
   "source": [
    "import numpy as np\n",
    "from math import *"
   ]
  },
  {
   "cell_type": "code",
   "execution_count": 2,
   "metadata": {
    "ExecuteTime": {
     "end_time": "2021-09-15T01:21:14.556624Z",
     "start_time": "2021-09-15T01:21:14.541622Z"
    }
   },
   "outputs": [],
   "source": [
    "A0 = 10 ** 6\n",
    "r0 = 0.0435 / 12\n",
    "T0 = 12 * 30\n",
    "\n",
    "# 等额本息\n",
    "\n",
    "\n",
    "def money_monthly1(A=A0, r=r0, T=T0):\n",
    "    \"\"\"等额本息的每月还款额\"\"\"\n",
    "    m = (A * r * (1 + r) ** T) / ((1 + r) ** T - 1)\n",
    "    return m\n",
    "\n",
    "\n",
    "def total_money_monthly1(m, A=A0, r=r0, T=T0):\n",
    "    \"\"\"等额本息的每月累计还款额\"\"\"\n",
    "    i_m = m * money_monthly1(A, r, T)\n",
    "    return i_m\n",
    "\n",
    "# 等额本金\n",
    "\n",
    "\n",
    "def money_monthly2(m, A=A0, r=r0, T=T0):\n",
    "    \"\"\"等额本金的每月还款额\"\"\"\n",
    "    m = A / T * (1 + (T - m + 1) * r)\n",
    "    return m\n",
    "\n",
    "\n",
    "def total_money_monthly2(m, A=A0, r=r0, T=T0):\n",
    "    \"\"\"等额本金的每月累计还款额\"\"\"\n",
    "    i_m = A * m / T + A * m * r * (2 * T - m + 1) / (2 * T)\n",
    "    return i_m"
   ]
  },
  {
   "cell_type": "code",
   "execution_count": 3,
   "metadata": {
    "ExecuteTime": {
     "end_time": "2021-09-15T01:21:15.780592Z",
     "start_time": "2021-09-15T01:21:15.764596Z"
    }
   },
   "outputs": [
    {
     "name": "stdout",
     "output_type": "stream",
     "text": [
      "等额本息每月还款额: 4978.117927162652 累计还款额: 1792122.453778555\n",
      "等额本金每月还款额: 4595.3125 累计还款额: 1654312.5\n"
     ]
    }
   ],
   "source": [
    "print('等额本息每月还款额:', money_monthly1(), '累计还款额:', total_money_monthly1(T0))\n",
    "print('等额本金每月还款额:', total_money_monthly2(T0) / T0, '累计还款额:', total_money_monthly2(T0))"
   ]
  },
  {
   "cell_type": "code",
   "execution_count": 4,
   "metadata": {
    "ExecuteTime": {
     "end_time": "2021-09-15T01:21:20.707152Z",
     "start_time": "2021-09-15T01:21:20.518294Z"
    }
   },
   "outputs": [],
   "source": [
    "import matplotlib.pyplot as plt\n",
    "\n",
    "x = list(range(1, 361))\n",
    "# 每月还款额\n",
    "y1 = [money_monthly1()] * 360\n",
    "y2 = [money_monthly2(i) for i in x]\n",
    "# 每月累计还款额\n",
    "y3 = [total_money_monthly1(i) for i in x]\n",
    "y4 = [total_money_monthly2(i) for i in x]"
   ]
  },
  {
   "cell_type": "code",
   "execution_count": 5,
   "metadata": {
    "ExecuteTime": {
     "end_time": "2021-09-15T01:21:21.911332Z",
     "start_time": "2021-09-15T01:21:21.909806Z"
    }
   },
   "outputs": [],
   "source": [
    "plt.rcParams['font.sans-serif']=['SimHei']"
   ]
  },
  {
   "cell_type": "code",
   "execution_count": 6,
   "metadata": {
    "ExecuteTime": {
     "end_time": "2021-09-15T01:21:23.349758Z",
     "start_time": "2021-09-15T01:21:23.188725Z"
    }
   },
   "outputs": [
    {
     "data": {
      "image/png": "[encoded data removed]",
      "text/plain": [
       "<Figure size 432x288 with 1 Axes>"
      ]
     },
     "metadata": {
      "needs_background": "light"
     },
     "output_type": "display_data"
    }
   ],
   "source": [
    "plt.plot(x, y1, '-.', label='等额本息')\n",
    "plt.plot(x, y2, label='等额本金')\n",
    "plt.legend()\n",
    "plt.show()"
   ]
  },
  {
   "cell_type": "code",
   "execution_count": 7,
   "metadata": {
    "ExecuteTime": {
     "end_time": "2021-09-15T01:21:28.067338Z",
     "start_time": "2021-09-15T01:21:27.940644Z"
    }
   },
   "outputs": [
    {
     "data": {
      "image/png": "[encoded data removed]",
      "text/plain": [
       "<Figure size 432x288 with 1 Axes>"
      ]
     },
     "metadata": {
      "needs_background": "light"
     },
     "output_type": "display_data"
    }
   ],
   "source": [
    "plt.plot(x, y3, '-.', label='等额本息')\n",
    "plt.plot(x, y4, label='等额本金')\n",
    "plt.legend()\n",
    "plt.show()"
   ]
  },
  {
   "cell_type": "code",
   "execution_count": 8,
   "metadata": {
    "ExecuteTime": {
     "end_time": "2021-09-15T01:21:31.065613Z",
     "start_time": "2021-09-15T01:21:31.053610Z"
    }
   },
   "outputs": [],
   "source": [
    "# 推广的计算，除了等额本息时的利率\n",
    "\n",
    "\n",
    "def duration_min1(m_limit, A=A0, r=0.0435):\n",
    "    \"\"\"返回等额本金时的最小期限\"\"\"\n",
    "    n_min = A / (12 * m_limit - A * r)\n",
    "    return n_min\n",
    "\n",
    "def rate_max1(m_limit, A=A0, n=30):\n",
    "    \"\"\"返回等额本金时的最大利率\"\"\"\n",
    "    r_max = 12 * m_limit / A - 1 / n\n",
    "    return r_max\n",
    "\n",
    "def duration_min2(m_limit, A=A0, r=r0):\n",
    "    \"\"\"返回等额本息时的最小期限\"\"\"\n",
    "    n_min = (log(m_limit) - log(m_limit - A * r)) / (12 * log(1 + r))\n",
    "    return n_min"
   ]
  },
  {
   "cell_type": "code",
   "execution_count": 9,
   "metadata": {
    "ExecuteTime": {
     "end_time": "2021-09-15T01:21:32.050009Z",
     "start_time": "2021-09-15T01:21:32.045884Z"
    }
   },
   "outputs": [],
   "source": [
    "# 牛顿法求等额本息时最大利率\n",
    "\n",
    "\n",
    "def rate_equation(r, m_limit, A, n):\n",
    "    \"\"\"决定最大月利率的函数\"\"\"\n",
    "    f_r = A * r * (1 + r) ** (12 * n) - m_limit * (1 + r) ** (12 * n) + m_limit\n",
    "    return f_r\n",
    "\n",
    "\n",
    "def rate_equation_derivative(r, m_limit, A, n):\n",
    "    \"\"\"利率函数的导函数\"\"\"\n",
    "    f_r_prime = A * (1 + r) ** (12 * n) + 12 * n * (A * r - m_limit) * (1 + r) ** (12 * n - 1)\n",
    "    return f_r_prime\n",
    "\n",
    "\n",
    "def rate_solve(x0, m_limit, A, n, alpha=0.01, epslion=1e-6, max_num=100):\n",
    "    \"\"\"牛顿法求利率函数零点\"\"\"\n",
    "    x = x0\n",
    "#     i = 0\n",
    "    while abs(rate_equation(x, m_limit, A, n)) > epslion:\n",
    "#     while (abs(rate_equation(x, m_limit, A, n)) > epslion) and (i <= max_num):\n",
    "        step = rate_equation(x, m_limit, A, n) / rate_equation_derivative(x, m_limit, A, n)\n",
    "        x = x - alpha * step\n",
    "#         i += 1\n",
    "    \n",
    "    return x\n",
    "\n",
    "\n",
    "def rate_max2(m_limit, x0=0.05, A=A0, n=30):\n",
    "    \"\"\"返回等额本息时的最大利率\"\"\"\n",
    "    r = rate_solve(x0, m_limit, A, n)\n",
    "    r_max = 12 * r\n",
    "    return r_max"
   ]
  },
  {
   "cell_type": "code",
   "execution_count": 10,
   "metadata": {
    "ExecuteTime": {
     "end_time": "2021-09-15T01:21:33.967932Z",
     "start_time": "2021-09-15T01:21:33.940926Z"
    }
   },
   "outputs": [
    {
     "name": "stdout",
     "output_type": "stream",
     "text": [
      "等额本金时，最小期限: 21.50537634408602 最大利率: 0.056666666666666664\n",
      "等额本息时，最小期限: 15.208127209880873 最大利率: 0.08231977781482319\n"
     ]
    }
   ],
   "source": [
    "mLimit = 7500\n",
    "print('等额本金时，最小期限:', duration_min1(mLimit), '最大利率:', rate_max1(mLimit))\n",
    "print('等额本息时，最小期限:', duration_min2(mLimit), '最大利率:', rate_max2(mLimit))"
   ]
  },
  {
   "cell_type": "code",
   "execution_count": null,
   "metadata": {},
   "outputs": [],
   "source": []
  }
 ],
 "metadata": {
  "kernelspec": {
   "display_name": "Python 3",
   "language": "python",
   "name": "python3"
  },
  "language_info": {
   "codemirror_mode": {
    "name": "ipython",
    "version": 3
   },
   "file_extension": ".py",
   "mimetype": "text/x-python",
   "name": "python",
   "nbconvert_exporter": "python",
   "pygments_lexer": "ipython3",
   "version": "3.8.5"
  },
  "varInspector": {
   "cols": {
    "lenName": 16,
    "lenType": 16,
    "lenVar": 40
   },
   "kernels_config": {
    "python": {
     "delete_cmd_postfix": "",
     "delete_cmd_prefix": "del ",
     "library": "var_list.py",
     "varRefreshCmd": "print(var_dic_list())"
    },
    "r": {
     "delete_cmd_postfix": ") ",
     "delete_cmd_prefix": "rm(",
     "library": "var_list.r",
     "varRefreshCmd": "cat(var_dic_list()) "
    }
   },
   "types_to_exclude": [
    "module",
    "function",
    "builtin_function_or_method",
    "instance",
    "_Feature"
   ],
   "window_display": false
  }
 },
 "nbformat": 4,
 "nbformat_minor": 2
}
