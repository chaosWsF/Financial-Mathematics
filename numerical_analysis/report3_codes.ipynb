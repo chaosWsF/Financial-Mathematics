{
 "cells": [
  {
   "cell_type": "markdown",
   "metadata": {},
   "source": [
    "# Chapter 4 Numerical Differentiation and Integration"
   ]
  },
  {
   "cell_type": "code",
   "execution_count": 1,
   "metadata": {
    "ExecuteTime": {
     "end_time": "2021-09-15T00:41:59.321638Z",
     "start_time": "2021-09-15T00:41:59.304635Z"
    }
   },
   "outputs": [],
   "source": [
    "import time\n",
    "import numpy as np"
   ]
  },
  {
   "cell_type": "markdown",
   "metadata": {},
   "source": [
    "## Composite Simpson's Rule\n",
    "\n",
    "Determine the value of $n$ required to approximate\n",
    "\n",
    "$$\n",
    "\\int^{2}_{0} \\frac{1}{x+4} dx\n",
    "$$\n",
    "\n",
    "to within $10^{-5}$ and compute the approximation by Composite Simpson's rule.\n",
    "\n",
    "The error form for the Composite Simpson’s rule for $f(x)=\\frac{1}{x+4}$ on $[0,2]$ is\n",
    "\n",
    "$$\n",
    "\\left|\\frac{b-a}{180}h^{4}f^{(4)}(\\mu)\\right|=\\left|\\frac{4h^{4}}{15(x+4)^5}\\right|.\n",
    "$$\n",
    "\n",
    "To ensure sufficient accuracy with this technique we need to have \n",
    "\n",
    "$$\n",
    "\\frac{4h^{4}}{15}\\left|\\frac{1}{(x+4)^5}\\right|\\leq\\frac{h^4}{3840}\\leq10^{-5}.\n",
    "$$\n",
    "\n",
    "Using again the fact that $h=\\frac{2}{n}$ gives \n",
    "\n",
    "$$\n",
    "\\frac{1}{240 n^4}\\leq10^{-5} \\quad \\Rightarrow \\quad n > \\frac{10}{24^{0.25}} \\approx4.5180100180492.\n",
    "$$\n",
    "\n",
    "So Composite Simpson’s rule requires only even $n\\geq6$.\n",
    "\n",
    "Composite Simpson’s rule with $n=6, h=\\frac{1}{3}$ gives\n",
    "\n",
    "$$\n",
    "\\int^{2}_{0} \\frac{1}{x+4} dx \\approx \\frac{1}{9}\\left(\\frac{5}{12}+2\\sum_{j=1}^{2}{\\frac{1}{x_{2j}+4}}+4\\sum_{j=1}^{3}{\\frac{1}{x_{2j-1}+4}}\\right)= 0.4054663746.\n",
    "$$\n",
    "\n",
    "This is accurate to within about $10^{-5}$ because the true value is\n",
    "\n",
    "$$\n",
    "\\int^{2}_{0} \\frac{1}{x+4} dx = \\ln(\\frac{3}{2}) \\approx 0.4054651081.\n",
    "$$"
   ]
  },
  {
   "cell_type": "code",
   "execution_count": 2,
   "metadata": {
    "ExecuteTime": {
     "end_time": "2021-09-15T00:42:58.908416Z",
     "start_time": "2021-09-15T00:42:58.901415Z"
    }
   },
   "outputs": [
    {
     "name": "stdout",
     "output_type": "stream",
     "text": [
      "true value=0.4054651081\n",
      "approximation & 0.4054663746 \\\\\n",
      "absolute error & 0.0000012665 \\\\\n",
      "relative error & 0.0000031235 \\\\\n",
      "time (seconds) & 0.0002828000\n"
     ]
    }
   ],
   "source": [
    "## Composite Simpson's Rule\n",
    "def f(x):\n",
    "    return 1 / (x + 4)\n",
    "\n",
    "a = 0\n",
    "b = 2\n",
    "n = 6\n",
    "h = (b - a) / n\n",
    "I = np.log(1.5)    # true value\n",
    "\n",
    "start = time.perf_counter()\n",
    "\n",
    "X = f(np.linspace(a, b, n+1))\n",
    "XI0 = X[0] + X[-1]\n",
    "XI1 = np.sum(X[1:-1:2])    # odd sum\n",
    "XI2 = np.sum(X[2:-1:2])    # even sum\n",
    "XI = h * (XI0 + 2 * XI2 + 4 * XI1) / 3\n",
    "\n",
    "elapsed = time.perf_counter() - start\n",
    "\n",
    "error1 = abs(XI - I)\n",
    "error2 = abs(XI - I) / abs(I)\n",
    "\n",
    "print('true value=%.10f' % I)\n",
    "print('approximation & %.10f \\\\\\\\' % XI)\n",
    "print('absolute error & %.10f \\\\\\\\' % error1)\n",
    "print('relative error & %.10f \\\\\\\\' % error2)\n",
    "print('time (seconds) & %.10f' % elapsed)"
   ]
  },
  {
   "cell_type": "markdown",
   "metadata": {},
   "source": [
    "## Romberg Integration\n",
    "\n",
    "Use Romberg integration to compute $R_{3,3}$ for \n",
    "\n",
    "$$\n",
    "\\int_{1}^{1.5}{x^{2}\\ln x dx}.\n",
    "$$\n",
    "\n",
    "The Composite Trapezoidal rule is used to find approximations to Eq. with $n=1,2,4,\\dots,32$. Then Romberg extrapolation is performed on the results.\n",
    "\n",
    "The Composite Trapezoidal rule for the various values of n gives different approximations to the true value $0.192259$."
   ]
  },
  {
   "cell_type": "code",
   "execution_count": 3,
   "metadata": {
    "ExecuteTime": {
     "end_time": "2021-09-15T00:43:16.940461Z",
     "start_time": "2021-09-15T00:43:16.925458Z"
    }
   },
   "outputs": [
    {
     "name": "stdout",
     "output_type": "stream",
     "text": [
      "true value=0.1922593577\n",
      "approximation & 0.1922593373 \\\\\n",
      "absolute error & 0.0000000204 \\\\\n",
      "relative error & 0.0000001062 \\\\\n",
      "time (seconds) & 0.0002347000\n"
     ]
    }
   ],
   "source": [
    "## Romberg Integration\n",
    "def f(x):\n",
    "    return (x ** 2) * np.log(x)\n",
    "\n",
    "a = 1\n",
    "b = 1.5\n",
    "n = 3    # when n=5, error cannot be estimated\n",
    "I = 1.5 ** 3 / 3 * np.log(1.5) - 1 / 9 * (1.5 ** 3 - 1)    # true value\n",
    "\n",
    "start = time.perf_counter()\n",
    "\n",
    "h = b - a\n",
    "R = np.zeros([2, n])\n",
    "R[0, 0] = h * (f(a) + f(b)) / 2\n",
    "for i in range(1, n):\n",
    "    temp = np.array([a+(k-.5)*h for k in range(1, 2**(i-1)+1)])\n",
    "    R[1, 0] = (R[0, 0] + h * np.sum(f(temp))) / 2\n",
    "    for j in range(1, i+1):\n",
    "        R[1, j] = R[1, j-1] + (R[1, j-1] - R[0, j-1]) / (4 ** j - 1)\n",
    "    \n",
    "    h = h / 2\n",
    "    R[0] = R[1]\n",
    "\n",
    "elapsed = time.perf_counter() - start\n",
    "\n",
    "error1 = abs(R[-1, -1] - I)\n",
    "error2 = abs(R[-1, -1] - I) / abs(I)\n",
    "\n",
    "print('true value=%.10f' % I)\n",
    "print('approximation & %.10f \\\\\\\\' % R[-1, -1])\n",
    "print('absolute error & %.10f \\\\\\\\' % error1)\n",
    "print('relative error & %.10f \\\\\\\\' % error2)\n",
    "print('time (seconds) & %.10f' % elapsed)"
   ]
  },
  {
   "cell_type": "markdown",
   "metadata": {},
   "source": [
    "## Composite Gaussian Quadrature\n",
    "\n",
    "Approximate the integral in Eq. using Composite Gaussian quadrature with $n=3$.\n",
    "\n",
    "$$\n",
    "\\int_{0}^{1}x^{2}\\mathrm{e}^{-x} dx.\n",
    "$$\n",
    "\n",
    "Let $f(x)=x^{2}\\mathrm{e}^{-x},x_{k}=kh\\,(k=0,1,\\dots,n)$, where $h=\\frac{1}{n}$, and apply the $2$-node Gaussian-Legendre Quadrature in $[x_{k},x_{k+1}]$:\n",
    "\n",
    "$$\n",
    "\\int_{x_k}^{x_{k+1}} f(x) dx \\approx \\frac{x_{k+1}-x_{k}}{2}\\left[f\\left(\\frac{x_{k+1}+x_{k}}{2} + \\frac{x_{k+1}-x_{k}}{2\\sqrt3}\\right) + f\\left(\\frac{x_{k+1}+x_{k}}{2} - \\frac{x_{k+1}-x_{k}}{2\\sqrt3}\\right)\\right],\n",
    "$$\n",
    "\n",
    "We have the following Composite Gauss-Legendre Quadrature in $[0,1]$ (See Eq.).\n",
    "\n",
    "$$\n",
    "\\int_{0}^{1}f(x) dx = \\frac{h}{2}\\sum_{k=0}^{n-1}\\left[f\\left(x_{k+\\frac{1}{2}}+\\frac{h}{2\\sqrt 3}\\right)+f\\left(x_{k+\\frac{1}{2}}-\\frac{h}{2\\sqrt 3}\\right)\\right].\n",
    "$$\n",
    "\n",
    "The exact value is \n",
    "$$\n",
    "\\int_{0}^{1}{x^{2}\\mathrm{e}^{-x} dx} = 2 - \\frac{5}{\\mathrm{e}} \\approx 0.16060\n",
    "$$"
   ]
  },
  {
   "cell_type": "code",
   "execution_count": 4,
   "metadata": {
    "ExecuteTime": {
     "end_time": "2021-09-15T00:43:20.679279Z",
     "start_time": "2021-09-15T00:43:20.662275Z"
    }
   },
   "outputs": [
    {
     "name": "stdout",
     "output_type": "stream",
     "text": [
      "true value=0.1606027941\n",
      "approximation & 0.1605868586 \\\\\n",
      "absolute error & 0.0000159356 \\\\\n",
      "relative error & 0.0000992235 \\\\\n",
      "time (seconds) & 0.0002385000\n"
     ]
    }
   ],
   "source": [
    "## Composite Gaussian Quadrature with 2-node\n",
    "def f(x):\n",
    "    return np.exp(-x) * x ** 2\n",
    "\n",
    "a = 0\n",
    "b = 1\n",
    "n = 3\n",
    "h = (b - a) / n\n",
    "I = 2 - 5 / np.e   # true value\n",
    "\n",
    "start = time.perf_counter()\n",
    "\n",
    "X = np.linspace(a, b, n+1)[:-1] + .5 * h\n",
    "X1 = f(X + h / (2 * np.sqrt(3)))\n",
    "X2 = f(X - h / (2 * np.sqrt(3)))\n",
    "XI = h * np.sum(X1 + X2) / 2\n",
    "\n",
    "elapsed = time.perf_counter() - start\n",
    "\n",
    "error1 = abs(XI - I)\n",
    "error2 = abs(XI - I) / abs(I)\n",
    "\n",
    "\n",
    "print('true value=%.10f' % I)\n",
    "print('approximation & %.10f \\\\\\\\' % XI)\n",
    "print('absolute error & %.10f \\\\\\\\' % error1)\n",
    "print('relative error & %.10f \\\\\\\\' % error2)\n",
    "print('time (seconds) & %.10f' % elapsed)"
   ]
  },
  {
   "cell_type": "markdown",
   "metadata": {},
   "source": [
    "We can also equally divided $[0,1]$ into $2n$ parts. Let $x_{k}=kh\\,(k=0,1,\\dots,2n)$, where $h=\\frac{1}{2n}$, and use the $3$-node Gauss-Legendre Quadrature in $[x_{k}, x_{k+2}]$,\n",
    "\n",
    "$$\n",
    "\\int_{x_k}^{x_{k+2}} f(x) dx \\approx \\frac{x_{k+2}-x_{k}}{2}\\left\\lbrace \\frac{5}{9}\\left[f\\left(\\frac{x_{k+2}+x_{k}}{2} + \\frac{x_{k+2}-x_{k}}{2}\\sqrt{\\frac{3}{5}}\\right) + f\\left(\\frac{x_{k+2}+x_{k}}{2} - \\frac{x_{k+2}-x_{k}}{2}\\sqrt{\\frac{3}{5}}\\right)\\right]+\\frac{8}{9}f(x_{k+1})\\right\\rbrace,\n",
    "$$\n",
    "\n",
    "then we have \n",
    "\n",
    "$$\n",
    "\\int_{0}^{1} f(x) dx \\approx \\frac{h}{9}\\sum_{k=0}^{n-1}\\left\\lbrace 5\\left[f\\left(x_{2k+1} + h\\sqrt{\\frac{3}{5}}\\right) + f\\left(x_{2k+1} - h\\sqrt{\\frac{3}{5}}\\right)\\right]+8f(x_{2k+1})\\right\\rbrace.\n",
    "$$"
   ]
  },
  {
   "cell_type": "code",
   "execution_count": 5,
   "metadata": {
    "ExecuteTime": {
     "end_time": "2021-09-15T00:43:23.525269Z",
     "start_time": "2021-09-15T00:43:23.518276Z"
    }
   },
   "outputs": [
    {
     "name": "stdout",
     "output_type": "stream",
     "text": [
      "true value=0.1606027941\n",
      "approximation & 0.1606027834 \\\\\n",
      "absolute error & 0.0000000108 \\\\\n",
      "relative error & 0.0000000671 \\\\\n",
      "time (seconds) & 0.0002235000\n"
     ]
    }
   ],
   "source": [
    "## Composite Gaussian Quadrature with 3-node\n",
    "def f(x):\n",
    "    return np.exp(-x) * x ** 2\n",
    "\n",
    "a = 0\n",
    "b = 1\n",
    "n = 3\n",
    "h = (b - a) / (2 * n)\n",
    "I = 2 - 5 / np.e   # true value\n",
    "\n",
    "start = time.perf_counter()\n",
    "\n",
    "X = np.array([a + (2 * k + 1) * h for k in range(n)])\n",
    "X1 = f(X + h * np.sqrt(0.6))\n",
    "X2 = f(X - h * np.sqrt(0.6))\n",
    "X3 = f(X)\n",
    "XI = h * np.sum(5 * (X1 + X2) + 8 * X3) / 9\n",
    "\n",
    "elapsed = time.perf_counter() - start\n",
    "\n",
    "error1 = abs(XI - I)\n",
    "error2 = abs(XI - I) / abs(I)\n",
    "\n",
    "print('true value=%.10f' % I)\n",
    "print('approximation & %.10f \\\\\\\\' % XI)\n",
    "print('absolute error & %.10f \\\\\\\\' % error1)\n",
    "print('relative error & %.10f \\\\\\\\' % error2)\n",
    "print('time (seconds) & %.10f' % elapsed)"
   ]
  },
  {
   "cell_type": "markdown",
   "metadata": {},
   "source": [
    "## Comparison\n",
    "\n",
    "$$\n",
    "\\int_{0}^{0.35} \\frac{2}{x^{2}-4} dx = \\frac{1}{2}\\ln(\\frac{2-0.35}{2+0.35}) \\approx -0.17682\n",
    "$$"
   ]
  },
  {
   "cell_type": "code",
   "execution_count": 6,
   "metadata": {
    "ExecuteTime": {
     "end_time": "2021-09-15T00:43:26.544282Z",
     "start_time": "2021-09-15T00:43:26.517276Z"
    }
   },
   "outputs": [
    {
     "name": "stdout",
     "output_type": "stream",
     "text": [
      "true value=-0.1768200201\n",
      "\\textbf{} & \\textbf{Simpson} & \\textbf{Romberg} & \\textbf{Gaussian-2} & \\textbf{Gaussian-3} \\\\\n",
      "approximation & -0.1768200398 & -0.1768200225 & -0.1768200070 & -0.1768200201 \\\\\n",
      "absolute error & 0.0000000196 & 0.0000000023 & 0.0000000131 & 0.0000000000 \\\\\n",
      "relative error & 0.0000001111 & 0.0000000132 & 0.0000000740 & 0.0000000000 \\\\\n",
      "time (seconds) & 0.0002357000 & 0.0002145000 & 0.0001774000 & 0.0001648000\n"
     ]
    }
   ],
   "source": [
    "## Comparison\n",
    "def f(x):\n",
    "    return 2 / (x ** 2 - 4)\n",
    "\n",
    "a = 0\n",
    "b = .35\n",
    "I = .5 * np.log((2 - .35) / (2 + .35))    # true value\n",
    "\n",
    "# Simpson\n",
    "n = 6\n",
    "h = (b - a) / n\n",
    "\n",
    "start = time.perf_counter()\n",
    "\n",
    "X = f(np.linspace(a, b, n+1))\n",
    "XI0 = X[0] + X[-1]\n",
    "XI1 = np.sum(X[1:-1:2])    # odd sum\n",
    "XI2 = np.sum(X[2:-1:2])    # even sum\n",
    "XI_S = h * (XI0 + 2 * XI2 + 4 * XI1) / 3\n",
    "\n",
    "elapsed_S = time.perf_counter() - start\n",
    "\n",
    "error1_S = abs(XI_S - I)\n",
    "error2_S = abs(XI_S - I) / abs(I)\n",
    "\n",
    "# Romberg\n",
    "n = 3\n",
    "\n",
    "start = time.perf_counter()\n",
    "\n",
    "h = b - a\n",
    "R = np.zeros([2, n])\n",
    "R[0, 0] = h * (f(a) + f(b)) / 2\n",
    "for i in range(1, n):\n",
    "    temp = np.array([a+(k-.5)*h for k in range(1, 2**(i-1)+1)])\n",
    "    R[1, 0] = (R[0, 0] + h * np.sum(f(temp))) / 2\n",
    "    for j in range(1, i+1):\n",
    "        R[1, j] = R[1, j-1] + (R[1, j-1] - R[0, j-1]) / (4 ** j - 1)\n",
    "    \n",
    "    h = h / 2\n",
    "    R[0] = R[1]\n",
    "\n",
    "elapsed_R = time.perf_counter() - start\n",
    "\n",
    "error1_R = abs(R[-1, -1] - I)\n",
    "error2_R = abs(R[-1, -1] - I) / abs(I)\n",
    "\n",
    "## Composite Gaussian Quadrature with 2-node\n",
    "n = 3\n",
    "h = (b - a) / n\n",
    "\n",
    "start = time.perf_counter()\n",
    "\n",
    "X = np.linspace(a, b, n+1)[:-1] + .5 * h\n",
    "X1 = f(X + h / (2 * np.sqrt(3)))\n",
    "X2 = f(X - h / (2 * np.sqrt(3)))\n",
    "XI_G2 = h * np.sum(X1 + X2) / 2\n",
    "\n",
    "elapsed_G2 = time.perf_counter() - start\n",
    "\n",
    "error1_G2 = abs(XI_G2 - I)\n",
    "error2_G2 = abs(XI_G2 - I) / abs(I)\n",
    "\n",
    "## Composite Gaussian Quadrature with 3-node\n",
    "n = 3\n",
    "h = (b - a) / (2 * n)\n",
    "\n",
    "start = time.perf_counter()\n",
    "\n",
    "X = np.array([a + (2 * k + 1) * h for k in range(n)])\n",
    "X1 = f(X + h * np.sqrt(0.6))\n",
    "X2 = f(X - h * np.sqrt(0.6))\n",
    "X3 = f(X)\n",
    "XI_G3 = h * np.sum(5 * (X1 + X2) + 8 * X3) / 9\n",
    "\n",
    "elapsed_G3 = time.perf_counter() - start\n",
    "\n",
    "error1_G3 = abs(XI_G3 - I)\n",
    "error2_G3 = abs(XI_G3 - I) / abs(I)\n",
    "\n",
    "# output results\n",
    "print('true value=%.10f' % I)\n",
    "\n",
    "print('\\\\textbf{} & \\\\textbf{Simpson} & \\\\textbf{Romberg} & \\\\textbf{Gaussian-2} & \\\\textbf{Gaussian-3} \\\\\\\\')\n",
    "print('approximation & {0:.10f} & {1:.10f} & {2:.10f} & {3:.10f} \\\\\\\\'.format(XI_S, R[-1, -1], XI_G2, XI_G3))\n",
    "print('absolute error & {0:.10f} & {1:.10f} & {2:.10f} & {3:.10f} \\\\\\\\'.format(error1_S, error1_R, error1_G2, error1_G3))\n",
    "print('relative error & {0:.10f} & {1:.10f} & {2:.10f} & {3:.10f} \\\\\\\\'.format(error2_S, error2_R, error2_G2, error2_G3))\n",
    "print('time (seconds) & {0:.10f} & {1:.10f} & {2:.10f} & {3:.10f}'.format(elapsed_S, elapsed_R, elapsed_G2, elapsed_G3))"
   ]
  },
  {
   "cell_type": "code",
   "execution_count": null,
   "metadata": {},
   "outputs": [],
   "source": []
  }
 ],
 "metadata": {
  "kernelspec": {
   "display_name": "Python 3",
   "language": "python",
   "name": "python3"
  },
  "language_info": {
   "codemirror_mode": {
    "name": "ipython",
    "version": 3
   },
   "file_extension": ".py",
   "mimetype": "text/x-python",
   "name": "python",
   "nbconvert_exporter": "python",
   "pygments_lexer": "ipython3",
   "version": "3.8.5"
  },
  "varInspector": {
   "cols": {
    "lenName": 16,
    "lenType": 16,
    "lenVar": 40
   },
   "kernels_config": {
    "python": {
     "delete_cmd_postfix": "",
     "delete_cmd_prefix": "del ",
     "library": "var_list.py",
     "varRefreshCmd": "print(var_dic_list())"
    },
    "r": {
     "delete_cmd_postfix": ") ",
     "delete_cmd_prefix": "rm(",
     "library": "var_list.r",
     "varRefreshCmd": "cat(var_dic_list()) "
    }
   },
   "types_to_exclude": [
    "module",
    "function",
    "builtin_function_or_method",
    "instance",
    "_Feature"
   ],
   "window_display": false
  }
 },
 "nbformat": 4,
 "nbformat_minor": 2
}
