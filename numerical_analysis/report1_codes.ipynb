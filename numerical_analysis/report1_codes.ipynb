{
 "cells": [
  {
   "cell_type": "code",
   "execution_count": 1,
   "metadata": {
    "ExecuteTime": {
     "end_time": "2021-09-14T23:57:45.321805Z",
     "start_time": "2021-09-14T23:57:45.304802Z"
    }
   },
   "outputs": [],
   "source": [
    "import numpy as np"
   ]
  },
  {
   "cell_type": "markdown",
   "metadata": {},
   "source": [
    "Newton's Method (2.3 6.a)"
   ]
  },
  {
   "cell_type": "code",
   "execution_count": 2,
   "metadata": {
    "ExecuteTime": {
     "end_time": "2021-09-14T23:58:10.406175Z",
     "start_time": "2021-09-14T23:58:10.390172Z"
    }
   },
   "outputs": [
    {
     "name": "stdout",
     "output_type": "stream",
     "text": [
      "the root is 1.829383614494166 in 4 iter\n"
     ]
    }
   ],
   "source": [
    "def f(x):\n",
    "    return np.exp(x) + 2 ** (-x) + 2 * np.cos(x) - 6\n",
    "\n",
    "def fprime(x):\n",
    "    return np.exp(x) - np.log(2) * 2 ** (-x) - 2 * np.sin(x)\n",
    "\n",
    "p0 = 1.5\n",
    "\n",
    "tol = 1e-5\n",
    "N = 100 # N_min = 5\n",
    "p = p0\n",
    "i = 1\n",
    "\n",
    "while (i <= N) & (abs(f(p)) >= tol):\n",
    "    p = p - f(p) / fprime(p)\n",
    "    i = i + 1\n",
    "\n",
    "if i > N:\n",
    "    print('the root is not found')\n",
    "else:\n",
    "    print('the root is {0} in {1} iter'.format(p, i-1))"
   ]
  },
  {
   "cell_type": "code",
   "execution_count": 3,
   "metadata": {
    "ExecuteTime": {
     "end_time": "2021-09-14T23:58:15.362775Z",
     "start_time": "2021-09-14T23:58:15.349773Z"
    }
   },
   "outputs": [
    {
     "name": "stdout",
     "output_type": "stream",
     "text": [
      "0 1.5 -1.023283135733256\n",
      "1 1.9564897211242105 0.5797013732749239\n",
      "2 1.8415330610420606 0.050340951614865403\n",
      "3 1.8295060132036511 0.000502121322591087\n",
      "4 1.829383614494166 5.151613891030138e-08\n",
      "5 1.829383601933849 8.881784197001252e-16\n",
      "6 1.8293836019338487 0.0\n",
      "7 1.8293836019338487 0.0\n"
     ]
    }
   ],
   "source": [
    "def f(x):\n",
    "    return np.exp(x) + 2 ** (-x) + 2 * np.cos(x) - 6\n",
    "\n",
    "def fprime(x):\n",
    "    return np.exp(x) - np.log(2) * 2 ** (-x) - 2 * np.sin(x)\n",
    "\n",
    "p0 = 1.5\n",
    "print(0, p0, f(p0))\n",
    "\n",
    "tol = 1e-5\n",
    "N = 7\n",
    "p = p0\n",
    "i = 1\n",
    "\n",
    "while (i <= N):\n",
    "    p = p - f(p) / fprime(p)\n",
    "    print(i, p, f(p))\n",
    "    i = i + 1"
   ]
  },
  {
   "cell_type": "markdown",
   "metadata": {},
   "source": [
    "Horner's $$(x-1.2)(x-2.7)(x+0.2)(x+0.7)=x^4-3x^3-0.13x^2+2.37x+0.4536$$"
   ]
  },
  {
   "cell_type": "code",
   "execution_count": 4,
   "metadata": {
    "ExecuteTime": {
     "end_time": "2021-09-14T23:58:42.334191Z",
     "start_time": "2021-09-14T23:58:42.317188Z"
    }
   },
   "outputs": [
    {
     "name": "stdout",
     "output_type": "stream",
     "text": [
      "the real root is 2.700000\n",
      "the real root is 1.199833\n",
      "the real root is -0.203798\n",
      "the real root is -0.698659\n"
     ]
    }
   ],
   "source": [
    "def polynomial(x, coeff):\n",
    "    y = 0\n",
    "    deg = len(coeff) - 1\n",
    "    for c in range(deg+1):\n",
    "        y += coeff[c] * x ** (deg - c)\n",
    "    return y\n",
    "\n",
    "tol = 1e-4\n",
    "N = 10\n",
    "P0_coeff = [1, -3, -.13, 2.37, 0.4536]\n",
    "x0 = 5\n",
    "\n",
    "P_coeff = P0_coeff\n",
    "for de in range(1, len(P0_coeff)):\n",
    "    x = x0\n",
    "    k = 1\n",
    "    while (k <= N) & (abs(polynomial(x, P_coeff)) >= tol):\n",
    "        Q_coeff = [P_coeff[0]]\n",
    "\n",
    "        for i in range(1, len(P_coeff)):\n",
    "            Q_coeff.append(P_coeff[i] + x * Q_coeff[i-1])\n",
    "\n",
    "        b0 = Q_coeff[-1]\n",
    "        Q_coeff = Q_coeff[:-1]\n",
    "        Q_x = Q_coeff[0]\n",
    "\n",
    "        for j in range(1, len(Q_coeff)):\n",
    "            Q_x = Q_coeff[j] + Q_x * x\n",
    "\n",
    "        x = x - b0 / Q_x\n",
    "        k = k + 1\n",
    "\n",
    "    if k > N:\n",
    "        print('in the %dth round, the real root is not found' % de)\n",
    "        break\n",
    "    else:\n",
    "        print('the real root is %f' % x)\n",
    "        P_coeff = Q_coeff"
   ]
  },
  {
   "cell_type": "markdown",
   "metadata": {},
   "source": [
    "Muller's (2.6 1.f)"
   ]
  },
  {
   "cell_type": "code",
   "execution_count": 5,
   "metadata": {
    "ExecuteTime": {
     "end_time": "2021-09-14T23:59:16.505590Z",
     "start_time": "2021-09-14T23:59:16.485577Z"
    }
   },
   "outputs": [
    {
     "name": "stdout",
     "output_type": "stream",
     "text": [
      "the root is (1.498189984970468+0j) in 4 iter\n"
     ]
    }
   ],
   "source": [
    "def f(x):\n",
    "    return x**5 - x**4 + 2*x**3 - 3*x**2 + x - 4\n",
    "\n",
    "tol = 1e-4\n",
    "N = 10\n",
    "\n",
    "x0 = 0.5\n",
    "x1 = 1.5\n",
    "x2 = 2\n",
    "\n",
    "h1 = x1 - x0\n",
    "h2 = x2 - x1\n",
    "delta1 = (f(x1) - f(x0)) / h1\n",
    "delta2 = (f(x2) - f(x1)) / h2\n",
    "d = (delta2 - delta1) / (h2 + h1)\n",
    "i = 3\n",
    "\n",
    "while i<= N:\n",
    "    b = delta2 + h2 * d\n",
    "    D = np.sqrt(b**2 - 4*f(x2)*d + 0j)\n",
    "    if np.abs(b+D) < np.abs(b-D):\n",
    "        E = b - D\n",
    "    else:\n",
    "        E = b + D\n",
    "    h = -2 * f(x2) / E\n",
    "    p = x2 + h\n",
    "    if np.abs(h) < tol:\n",
    "        break\n",
    "    else:\n",
    "        x0 = x1\n",
    "        x1 = x2\n",
    "        x2 = p\n",
    "        h1 = x1 - x0\n",
    "        h2 = x2 - x1\n",
    "        delta1 = (f(x1) - f(x0)) / h1\n",
    "        delta2 = (f(x2) - f(x1)) / h2\n",
    "        d = (delta2 - delta1) / (h2 + h1)\n",
    "        i = i + 1\n",
    "\n",
    "if i > N:\n",
    "    print('the root is not found')\n",
    "else:\n",
    "#     print('the root is', p)\n",
    "    print('the root is {0} in {1} iter'.format(p, i-1))"
   ]
  },
  {
   "cell_type": "code",
   "execution_count": 6,
   "metadata": {
    "ExecuteTime": {
     "end_time": "2021-09-14T23:59:20.721044Z",
     "start_time": "2021-09-14T23:59:20.709030Z"
    }
   },
   "outputs": [
    {
     "name": "stdout",
     "output_type": "stream",
     "text": [
      "3 (1.498764149899605+0j) (0.00989440252608631+0j)\n",
      "4 (1.4981893179937575+0j) (-1.1479542632031325e-05+0j)\n",
      "5 (1.498189984970468+0j) (4.221220706313034e-09+0j)\n",
      "6 (1.4981899847253+0j) (1.7763568394002505e-15+0j)\n"
     ]
    }
   ],
   "source": [
    "def f(x):\n",
    "    return x**5 - x**4 + 2*x**3 - 3*x**2 + x - 4\n",
    "\n",
    "tol = 1e-4\n",
    "N = 6\n",
    "\n",
    "x0 = 0.5\n",
    "x1 = 1.5\n",
    "x2 = 2\n",
    "\n",
    "h1 = x1 - x0\n",
    "h2 = x2 - x1\n",
    "delta1 = (f(x1) - f(x0)) / h1\n",
    "delta2 = (f(x2) - f(x1)) / h2\n",
    "d = (delta2 - delta1) / (h2 + h1)\n",
    "i = 3\n",
    "\n",
    "while i<= N:\n",
    "    b = delta2 + h2 * d\n",
    "    D = np.sqrt(b**2 - 4*f(x2)*d + 0j)\n",
    "    if np.abs(b+D) < np.abs(b-D):\n",
    "        E = b - D\n",
    "    else:\n",
    "        E = b + D\n",
    "    h = -2 * f(x2) / E\n",
    "    p = x2 + h\n",
    "    print(i, p, f(p))\n",
    "    x0 = x1\n",
    "    x1 = x2\n",
    "    x2 = p\n",
    "    h1 = x1 - x0\n",
    "    h2 = x2 - x1\n",
    "    delta1 = (f(x1) - f(x0)) / h1\n",
    "    delta2 = (f(x2) - f(x1)) / h2\n",
    "    d = (delta2 - delta1) / (h2 + h1)\n",
    "    i = i + 1"
   ]
  },
  {
   "cell_type": "code",
   "execution_count": 7,
   "metadata": {
    "ExecuteTime": {
     "end_time": "2021-09-14T23:59:24.317422Z",
     "start_time": "2021-09-14T23:59:24.301410Z"
    }
   },
   "outputs": [
    {
     "name": "stdout",
     "output_type": "stream",
     "text": [
      "the root is (-0.5136343227538117-1.0915621843348469j) in 12 iter\n"
     ]
    }
   ],
   "source": [
    "def f(x):\n",
    "    return x**5 - x**4 + 2*x**3 - 3*x**2 + x - 4\n",
    "\n",
    "tol = 1e-4\n",
    "N = 20\n",
    "\n",
    "x0 = 0.5\n",
    "x1 = 1.5\n",
    "x2 = 0\n",
    "\n",
    "h1 = x1 - x0\n",
    "h2 = x2 - x1\n",
    "delta1 = (f(x1) - f(x0)) / h1\n",
    "delta2 = (f(x2) - f(x1)) / h2\n",
    "d = (delta2 - delta1) / (h2 + h1)\n",
    "i = 3\n",
    "\n",
    "while i<= N:\n",
    "    b = delta2 + h2 * d\n",
    "    D = np.sqrt(b**2 - 4*f(x2)*d + 0j)\n",
    "    if np.abs(b+D) < np.abs(b-D):\n",
    "        E = b - D\n",
    "    else:\n",
    "        E = b + D\n",
    "    h = -2 * f(x2) / E\n",
    "    p = x2 + h\n",
    "    if np.abs(h) < tol:\n",
    "        break\n",
    "    else:\n",
    "        x0 = x1\n",
    "        x1 = x2\n",
    "        x2 = p\n",
    "        h1 = x1 - x0\n",
    "        h2 = x2 - x1\n",
    "        delta1 = (f(x1) - f(x0)) / h1\n",
    "        delta2 = (f(x2) - f(x1)) / h2\n",
    "        d = (delta2 - delta1) / (h2 + h1)\n",
    "        i = i + 1\n",
    "\n",
    "if i > N:\n",
    "    print('the root is not found')\n",
    "else:\n",
    "#     print('the root is', p)\n",
    "    print('the root is {0} in {1} iter'.format(p, i-1))"
   ]
  },
  {
   "cell_type": "code",
   "execution_count": 8,
   "metadata": {
    "ExecuteTime": {
     "end_time": "2021-09-14T23:59:27.983193Z",
     "start_time": "2021-09-14T23:59:27.965188Z"
    }
   },
   "outputs": [
    {
     "name": "stdout",
     "output_type": "stream",
     "text": [
      "3 (-0.9726770456880849+0j) (-11.417235565156103+0j)\n",
      "4 (1.275900767159098+0j) (-2.7225581194047637+0j)\n",
      "5 (0.8078752169948805-0.8397001336786886j) (-4.925463427466505+2.642474216853799j)\n",
      "6 (-0.38324373494436503-1.4452435867084068j) (-3.6035639304329417+2.2701000647116913j)\n",
      "7 (-0.8838301304280748-2.2081360516204263j) (-41.59236056334423+54.101410935409604j)\n",
      "8 (-0.39208378107355674-1.3448679015787002j) (-2.2517375902507633+1.7872907667065518j)\n",
      "9 (-0.5204394312533319-1.2185357102135892j) (-0.07109794347698406+1.4613964953086354j)\n",
      "10 (-0.537633826951466-1.1410799101485107j) (0.2911392890539064+0.5397771931425268j)\n",
      "11 (-0.5163812421229227-1.0933102388359197j) (0.030343446284451403+0.014972313863111264j)\n",
      "12 (-0.5136541937866832-1.0915290399590902j) (0.00016656418791161087-0.000362767086301119j)\n",
      "13 (-0.5136343227538117-1.0915621843348469j) (-9.683679369487663e-08+6.450632983323601e-08j)\n",
      "14 (-0.5136343327521048-1.091562179152236j) (-1.4210854715202004e-14-1.7985612998927536e-14j)\n"
     ]
    }
   ],
   "source": [
    "def f(x):\n",
    "    return x**5 - x**4 + 2*x**3 - 3*x**2 + x - 4\n",
    "\n",
    "tol = 1e-4\n",
    "N = 14\n",
    "\n",
    "x0 = 0.5\n",
    "x1 = 1.5\n",
    "x2 = 0\n",
    "\n",
    "h1 = x1 - x0\n",
    "h2 = x2 - x1\n",
    "delta1 = (f(x1) - f(x0)) / h1\n",
    "delta2 = (f(x2) - f(x1)) / h2\n",
    "d = (delta2 - delta1) / (h2 + h1)\n",
    "i = 3\n",
    "\n",
    "while i<= N:\n",
    "    b = delta2 + h2 * d\n",
    "    D = np.sqrt(b**2 - 4*f(x2)*d + 0j)\n",
    "    if np.abs(b+D) < np.abs(b-D):\n",
    "        E = b - D\n",
    "    else:\n",
    "        E = b + D\n",
    "    h = -2 * f(x2) / E\n",
    "    p = x2 + h\n",
    "    print(i, p, f(p))\n",
    "    x0 = x1\n",
    "    x1 = x2\n",
    "    x2 = p\n",
    "    h1 = x1 - x0\n",
    "    h2 = x2 - x1\n",
    "    delta1 = (f(x1) - f(x0)) / h1\n",
    "    delta2 = (f(x2) - f(x1)) / h2\n",
    "    d = (delta2 - delta1) / (h2 + h1)\n",
    "    i = i + 1"
   ]
  },
  {
   "cell_type": "code",
   "execution_count": 9,
   "metadata": {
    "ExecuteTime": {
     "end_time": "2021-09-14T23:59:31.810114Z",
     "start_time": "2021-09-14T23:59:31.789109Z"
    }
   },
   "outputs": [
    {
     "name": "stdout",
     "output_type": "stream",
     "text": [
      "the root is (0.26453934038943494-1.32837491492632j) in 11 iter\n"
     ]
    }
   ],
   "source": [
    "def f(x):\n",
    "    return x**5 - x**4 + 2*x**3 - 3*x**2 + x - 4\n",
    "\n",
    "tol = 1e-4\n",
    "N = 20\n",
    "\n",
    "x0 = 1\n",
    "x1 = 4\n",
    "x2 = 0\n",
    "\n",
    "h1 = x1 - x0\n",
    "h2 = x2 - x1\n",
    "delta1 = (f(x1) - f(x0)) / h1\n",
    "delta2 = (f(x2) - f(x1)) / h2\n",
    "d = (delta2 - delta1) / (h2 + h1)\n",
    "i = 3\n",
    "\n",
    "while i<= N:\n",
    "    b = delta2 + h2 * d\n",
    "    D = np.sqrt(b**2 - 4*f(x2)*d + 0j)\n",
    "    if np.abs(b+D) < np.abs(b-D):\n",
    "        E = b - D\n",
    "    else:\n",
    "        E = b + D\n",
    "    h = -2 * f(x2) / E\n",
    "    p = x2 + h\n",
    "    if np.abs(h) < tol:\n",
    "        break\n",
    "    else:\n",
    "        x0 = x1\n",
    "        x1 = x2\n",
    "        x2 = p\n",
    "        h1 = x1 - x0\n",
    "        h2 = x2 - x1\n",
    "        delta1 = (f(x1) - f(x0)) / h1\n",
    "        delta2 = (f(x2) - f(x1)) / h2\n",
    "        d = (delta2 - delta1) / (h2 + h1)\n",
    "        i = i + 1\n",
    "\n",
    "if i > N:\n",
    "    print('the root is not found')\n",
    "else:\n",
    "#     print('the root is', p)\n",
    "    print('the root is {0} in {1} iter'.format(p, i-1))"
   ]
  },
  {
   "cell_type": "code",
   "execution_count": 10,
   "metadata": {
    "ExecuteTime": {
     "end_time": "2021-09-14T23:59:36.800194Z",
     "start_time": "2021-09-14T23:59:36.781188Z"
    }
   },
   "outputs": [
    {
     "name": "stdout",
     "output_type": "stream",
     "text": [
      "3 (-0.053478118961367865+0j) (-4.062372348196482+0j)\n",
      "4 (-0.31714154298825203+0j) (-4.69599754098466+0j)\n",
      "5 (0.12278951928437659-1.0052713356341314j) (-1.953298618448633+0.3100729674439673j)\n",
      "6 (-0.024837606837155884-1.3186650196556036j) (-1.9434483805570424-0.6794351214119057j)\n",
      "7 (0.5358478579764889-1.3388275736632107j) (1.2837856394409126+3.176112007571736j)\n",
      "8 (0.2449841391374309-1.3650708038850345j) (0.12086488446056975-0.4129976024407569j)\n",
      "9 (0.2702481149849568-1.327498430060068j) (0.03120671523987273+0.04858422079222602j)\n",
      "10 (0.26444725638194455-1.3284348336616958j) (-0.0001700516879701297-0.0010807801116925475j)\n",
      "11 (0.2645393610687253-1.3283748769070534j) (-1.4369354550680669e-07+4.0634016507112847e-07j)\n"
     ]
    }
   ],
   "source": [
    "def f(x):\n",
    "    return x**5 - x**4 + 2*x**3 - 3*x**2 + x - 4\n",
    "\n",
    "tol = 1e-4\n",
    "N = 11\n",
    "\n",
    "x0 = 1\n",
    "x1 = 4\n",
    "x2 = 0\n",
    "\n",
    "h1 = x1 - x0\n",
    "h2 = x2 - x1\n",
    "delta1 = (f(x1) - f(x0)) / h1\n",
    "delta2 = (f(x2) - f(x1)) / h2\n",
    "d = (delta2 - delta1) / (h2 + h1)\n",
    "i = 3\n",
    "\n",
    "while i<= N:\n",
    "    b = delta2 + h2 * d\n",
    "    D = np.sqrt(b**2 - 4*f(x2)*d + 0j)\n",
    "    if np.abs(b+D) < np.abs(b-D):\n",
    "        E = b - D\n",
    "    else:\n",
    "        E = b + D\n",
    "    h = -2 * f(x2) / E\n",
    "    p = x2 + h\n",
    "    print(i, p, f(p))\n",
    "    x0 = x1\n",
    "    x1 = x2\n",
    "    x2 = p\n",
    "    h1 = x1 - x0\n",
    "    h2 = x2 - x1\n",
    "    delta1 = (f(x1) - f(x0)) / h1\n",
    "    delta2 = (f(x2) - f(x1)) / h2\n",
    "    d = (delta2 - delta1) / (h2 + h1)\n",
    "    i = i + 1"
   ]
  },
  {
   "cell_type": "markdown",
   "metadata": {},
   "source": [
    "Muller's method\n",
    "$$\n",
    "e^{ix}-3x^2=0\n",
    "$$"
   ]
  },
  {
   "cell_type": "code",
   "execution_count": 11,
   "metadata": {
    "ExecuteTime": {
     "end_time": "2021-09-15T00:00:10.952213Z",
     "start_time": "2021-09-15T00:00:10.941211Z"
    }
   },
   "outputs": [
    {
     "name": "stdout",
     "output_type": "stream",
     "text": [
      "the root is (0.520544313029485+0.13862770679474612j)\n",
      "(2.220446049250313e-16-1.1102230246251565e-16j)\n"
     ]
    }
   ],
   "source": [
    "def f(x):\n",
    "    return np.exp(1j*x) - 3*x**2\n",
    "\n",
    "tol = 1e-5\n",
    "N = 20\n",
    "\n",
    "x0 = .5\n",
    "x1 = 1.5\n",
    "x2 = 0\n",
    "\n",
    "h1 = x1 - x0\n",
    "h2 = x2 - x1\n",
    "delta1 = (f(x1) - f(x0)) / h1\n",
    "delta2 = (f(x2) - f(x1)) / h2\n",
    "d = (delta2 - delta1) / (h2 + h1)\n",
    "i = 3\n",
    "\n",
    "while i<= N:\n",
    "    b = delta2 + h2 * d\n",
    "    D = np.sqrt(b**2 - 4*f(x2)*d + 0j)\n",
    "    if np.abs(b+D) < np.abs(b-D):\n",
    "        E = b - D\n",
    "    else:\n",
    "        E = b + D\n",
    "    h = -2 * f(x2) / E\n",
    "    p = x2 + h\n",
    "    if np.abs(h) < tol:\n",
    "        break\n",
    "    else:\n",
    "        x0 = x1\n",
    "        x1 = x2\n",
    "        x2 = p\n",
    "        h1 = x1 - x0\n",
    "        h2 = x2 - x1\n",
    "        delta1 = (f(x1) - f(x0)) / h1\n",
    "        delta2 = (f(x2) - f(x1)) / h2\n",
    "        d = (delta2 - delta1) / (h2 + h1)\n",
    "        i = i + 1\n",
    "\n",
    "if i > N:\n",
    "    print('the root is not found')\n",
    "else:\n",
    "    print('the root is', p)\n",
    "    print(f(p))"
   ]
  },
  {
   "cell_type": "code",
   "execution_count": null,
   "metadata": {},
   "outputs": [],
   "source": []
  }
 ],
 "metadata": {
  "kernelspec": {
   "display_name": "Python 3",
   "language": "python",
   "name": "python3"
  },
  "language_info": {
   "codemirror_mode": {
    "name": "ipython",
    "version": 3
   },
   "file_extension": ".py",
   "mimetype": "text/x-python",
   "name": "python",
   "nbconvert_exporter": "python",
   "pygments_lexer": "ipython3",
   "version": "3.8.5"
  },
  "varInspector": {
   "cols": {
    "lenName": 16,
    "lenType": 16,
    "lenVar": 40
   },
   "kernels_config": {
    "python": {
     "delete_cmd_postfix": "",
     "delete_cmd_prefix": "del ",
     "library": "var_list.py",
     "varRefreshCmd": "print(var_dic_list())"
    },
    "r": {
     "delete_cmd_postfix": ") ",
     "delete_cmd_prefix": "rm(",
     "library": "var_list.r",
     "varRefreshCmd": "cat(var_dic_list()) "
    }
   },
   "types_to_exclude": [
    "module",
    "function",
    "builtin_function_or_method",
    "instance",
    "_Feature"
   ],
   "window_display": false
  }
 },
 "nbformat": 4,
 "nbformat_minor": 2
}
