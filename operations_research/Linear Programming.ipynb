{
 "cells": [
  {
   "cell_type": "code",
   "execution_count": 1,
   "metadata": {
    "ExecuteTime": {
     "end_time": "2021-09-15T04:41:40.332293Z",
     "start_time": "2021-09-15T04:41:40.160771Z"
    }
   },
   "outputs": [],
   "source": [
    "from scipy import optimize as op"
   ]
  },
  {
   "cell_type": "markdown",
   "metadata": {},
   "source": [
    "$\\max\\quad z=2x_1+3x_2-5x_3$\n",
    "\n",
    "s.t. $\\quad x_1+x_2+x_3=7$\n",
    "\n",
    "$\\quad\\quad 2x_1-5x_2+x_3\\geq10$\n",
    "\n",
    "$\\quad\\quad x_1+3x_2+x_3\\leq12$\n",
    "\n",
    "$\\quad\\quad x_1,x_2,x_3\\geq0$"
   ]
  },
  {
   "cell_type": "code",
   "execution_count": 2,
   "metadata": {
    "ExecuteTime": {
     "end_time": "2021-09-15T04:41:44.734738Z",
     "start_time": "2021-09-15T04:41:44.678050Z"
    }
   },
   "outputs": [],
   "source": [
    "op.linprog?"
   ]
  },
  {
   "cell_type": "code",
   "execution_count": 3,
   "metadata": {
    "ExecuteTime": {
     "end_time": "2021-09-15T04:41:54.638708Z",
     "start_time": "2021-09-15T04:41:54.621705Z"
    }
   },
   "outputs": [],
   "source": [
    "import numpy as np"
   ]
  },
  {
   "cell_type": "code",
   "execution_count": 4,
   "metadata": {
    "ExecuteTime": {
     "end_time": "2021-09-15T04:41:56.635837Z",
     "start_time": "2021-09-15T04:41:56.605058Z"
    }
   },
   "outputs": [
    {
     "data": {
      "text/plain": [
       "     con: array([1.19830483e-08])\n",
       "     fun: -14.571428542312118\n",
       " message: 'Optimization terminated successfully.'\n",
       "     nit: 5\n",
       "   slack: array([-3.70232041e-08,  3.85714287e+00])\n",
       "  status: 0\n",
       " success: True\n",
       "       x: array([6.42857141e+00, 5.71428573e-01, 9.82192086e-10])"
      ]
     },
     "execution_count": 4,
     "metadata": {},
     "output_type": "execute_result"
    }
   ],
   "source": [
    "c = np.array([2, 3, -5])\n",
    "A_ub = np.array([[-2, 5, -1],[1, 3, 1]])\n",
    "b_ub = np.array([-10, 12])\n",
    "A_eq = np.array([[1, 1, 1]])    # note one: input size is two by two\n",
    "b_eq = np.array([7])\n",
    "x1 = (0, 7)\n",
    "x2 = (0, 7)\n",
    "x3 = (0, 7)\n",
    "op.linprog(-c, A_ub, b_ub, A_eq, b_eq, bounds=(x1,x2,x3)) # note two: op is to solve minimize"
   ]
  },
  {
   "cell_type": "markdown",
   "metadata": {},
   "source": [
    "$\\quad\\quad z_{max}=14.57$"
   ]
  },
  {
   "cell_type": "code",
   "execution_count": null,
   "metadata": {},
   "outputs": [],
   "source": []
  }
 ],
 "metadata": {
  "kernelspec": {
   "display_name": "Python 3",
   "language": "python",
   "name": "python3"
  },
  "language_info": {
   "codemirror_mode": {
    "name": "ipython",
    "version": 3
   },
   "file_extension": ".py",
   "mimetype": "text/x-python",
   "name": "python",
   "nbconvert_exporter": "python",
   "pygments_lexer": "ipython3",
   "version": "3.8.5"
  },
  "varInspector": {
   "cols": {
    "lenName": 16,
    "lenType": 16,
    "lenVar": 40
   },
   "kernels_config": {
    "python": {
     "delete_cmd_postfix": "",
     "delete_cmd_prefix": "del ",
     "library": "var_list.py",
     "varRefreshCmd": "print(var_dic_list())"
    },
    "r": {
     "delete_cmd_postfix": ") ",
     "delete_cmd_prefix": "rm(",
     "library": "var_list.r",
     "varRefreshCmd": "cat(var_dic_list()) "
    }
   },
   "types_to_exclude": [
    "module",
    "function",
    "builtin_function_or_method",
    "instance",
    "_Feature"
   ],
   "window_display": false
  }
 },
 "nbformat": 4,
 "nbformat_minor": 2
}
